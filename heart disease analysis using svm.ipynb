{
 "cells": [
  {
   "cell_type": "code",
   "execution_count": 1,
   "id": "12cf3aa4",
   "metadata": {},
   "outputs": [],
   "source": [
    "import pandas as pd\n",
    "import numpy as np\n",
    "from sklearn import svm"
   ]
  },
  {
   "cell_type": "code",
   "execution_count": 2,
   "id": "eeb6b651",
   "metadata": {},
   "outputs": [
    {
     "data": {
      "text/html": [
       "<div>\n",
       "<style scoped>\n",
       "    .dataframe tbody tr th:only-of-type {\n",
       "        vertical-align: middle;\n",
       "    }\n",
       "\n",
       "    .dataframe tbody tr th {\n",
       "        vertical-align: top;\n",
       "    }\n",
       "\n",
       "    .dataframe thead th {\n",
       "        text-align: right;\n",
       "    }\n",
       "</style>\n",
       "<table border=\"1\" class=\"dataframe\">\n",
       "  <thead>\n",
       "    <tr style=\"text-align: right;\">\n",
       "      <th></th>\n",
       "      <th>Age</th>\n",
       "      <th>Sex</th>\n",
       "      <th>ChestPainType</th>\n",
       "      <th>RestingBP</th>\n",
       "      <th>Cholesterol</th>\n",
       "      <th>FastingBS</th>\n",
       "      <th>RestingECG</th>\n",
       "      <th>MaxHR</th>\n",
       "      <th>ExerciseAngina</th>\n",
       "      <th>Oldpeak</th>\n",
       "      <th>ST_Slope</th>\n",
       "      <th>HeartDisease</th>\n",
       "    </tr>\n",
       "  </thead>\n",
       "  <tbody>\n",
       "    <tr>\n",
       "      <th>0</th>\n",
       "      <td>40</td>\n",
       "      <td>M</td>\n",
       "      <td>ATA</td>\n",
       "      <td>140</td>\n",
       "      <td>289</td>\n",
       "      <td>0</td>\n",
       "      <td>Normal</td>\n",
       "      <td>172</td>\n",
       "      <td>N</td>\n",
       "      <td>0.0</td>\n",
       "      <td>Up</td>\n",
       "      <td>0</td>\n",
       "    </tr>\n",
       "    <tr>\n",
       "      <th>1</th>\n",
       "      <td>49</td>\n",
       "      <td>F</td>\n",
       "      <td>NAP</td>\n",
       "      <td>160</td>\n",
       "      <td>180</td>\n",
       "      <td>0</td>\n",
       "      <td>Normal</td>\n",
       "      <td>156</td>\n",
       "      <td>N</td>\n",
       "      <td>1.0</td>\n",
       "      <td>Flat</td>\n",
       "      <td>1</td>\n",
       "    </tr>\n",
       "    <tr>\n",
       "      <th>2</th>\n",
       "      <td>37</td>\n",
       "      <td>M</td>\n",
       "      <td>ATA</td>\n",
       "      <td>130</td>\n",
       "      <td>283</td>\n",
       "      <td>0</td>\n",
       "      <td>ST</td>\n",
       "      <td>98</td>\n",
       "      <td>N</td>\n",
       "      <td>0.0</td>\n",
       "      <td>Up</td>\n",
       "      <td>0</td>\n",
       "    </tr>\n",
       "    <tr>\n",
       "      <th>3</th>\n",
       "      <td>48</td>\n",
       "      <td>F</td>\n",
       "      <td>ASY</td>\n",
       "      <td>138</td>\n",
       "      <td>214</td>\n",
       "      <td>0</td>\n",
       "      <td>Normal</td>\n",
       "      <td>108</td>\n",
       "      <td>Y</td>\n",
       "      <td>1.5</td>\n",
       "      <td>Flat</td>\n",
       "      <td>1</td>\n",
       "    </tr>\n",
       "    <tr>\n",
       "      <th>4</th>\n",
       "      <td>54</td>\n",
       "      <td>M</td>\n",
       "      <td>NAP</td>\n",
       "      <td>150</td>\n",
       "      <td>195</td>\n",
       "      <td>0</td>\n",
       "      <td>Normal</td>\n",
       "      <td>122</td>\n",
       "      <td>N</td>\n",
       "      <td>0.0</td>\n",
       "      <td>Up</td>\n",
       "      <td>0</td>\n",
       "    </tr>\n",
       "  </tbody>\n",
       "</table>\n",
       "</div>"
      ],
      "text/plain": [
       "   Age Sex ChestPainType  RestingBP  Cholesterol  FastingBS RestingECG  MaxHR  \\\n",
       "0   40   M           ATA        140          289          0     Normal    172   \n",
       "1   49   F           NAP        160          180          0     Normal    156   \n",
       "2   37   M           ATA        130          283          0         ST     98   \n",
       "3   48   F           ASY        138          214          0     Normal    108   \n",
       "4   54   M           NAP        150          195          0     Normal    122   \n",
       "\n",
       "  ExerciseAngina  Oldpeak ST_Slope  HeartDisease  \n",
       "0              N      0.0       Up             0  \n",
       "1              N      1.0     Flat             1  \n",
       "2              N      0.0       Up             0  \n",
       "3              Y      1.5     Flat             1  \n",
       "4              N      0.0       Up             0  "
      ]
     },
     "execution_count": 2,
     "metadata": {},
     "output_type": "execute_result"
    }
   ],
   "source": [
    "data=pd.read_csv('C:\\\\Users\\\\USER\\\\Desktop\\\\hrst\\\\heart.csv')\n",
    "data.head()"
   ]
  },
  {
   "cell_type": "code",
   "execution_count": 3,
   "id": "47a77e77",
   "metadata": {},
   "outputs": [
    {
     "data": {
      "text/plain": [
       "Age               0\n",
       "Sex               0\n",
       "ChestPainType     0\n",
       "RestingBP         0\n",
       "Cholesterol       0\n",
       "FastingBS         0\n",
       "RestingECG        0\n",
       "MaxHR             0\n",
       "ExerciseAngina    0\n",
       "Oldpeak           0\n",
       "ST_Slope          0\n",
       "HeartDisease      0\n",
       "dtype: int64"
      ]
     },
     "execution_count": 3,
     "metadata": {},
     "output_type": "execute_result"
    }
   ],
   "source": [
    "data.isnull().sum()"
   ]
  },
  {
   "cell_type": "code",
   "execution_count": 4,
   "id": "e8655d7b",
   "metadata": {},
   "outputs": [
    {
     "data": {
      "text/html": [
       "<div>\n",
       "<style scoped>\n",
       "    .dataframe tbody tr th:only-of-type {\n",
       "        vertical-align: middle;\n",
       "    }\n",
       "\n",
       "    .dataframe tbody tr th {\n",
       "        vertical-align: top;\n",
       "    }\n",
       "\n",
       "    .dataframe thead th {\n",
       "        text-align: right;\n",
       "    }\n",
       "</style>\n",
       "<table border=\"1\" class=\"dataframe\">\n",
       "  <thead>\n",
       "    <tr style=\"text-align: right;\">\n",
       "      <th></th>\n",
       "      <th>Age</th>\n",
       "      <th>RestingBP</th>\n",
       "      <th>Cholesterol</th>\n",
       "      <th>FastingBS</th>\n",
       "      <th>MaxHR</th>\n",
       "      <th>Oldpeak</th>\n",
       "      <th>HeartDisease</th>\n",
       "    </tr>\n",
       "  </thead>\n",
       "  <tbody>\n",
       "    <tr>\n",
       "      <th>count</th>\n",
       "      <td>918.000000</td>\n",
       "      <td>918.000000</td>\n",
       "      <td>918.000000</td>\n",
       "      <td>918.000000</td>\n",
       "      <td>918.000000</td>\n",
       "      <td>918.000000</td>\n",
       "      <td>918.000000</td>\n",
       "    </tr>\n",
       "    <tr>\n",
       "      <th>mean</th>\n",
       "      <td>53.510893</td>\n",
       "      <td>132.396514</td>\n",
       "      <td>198.799564</td>\n",
       "      <td>0.233115</td>\n",
       "      <td>136.809368</td>\n",
       "      <td>0.887364</td>\n",
       "      <td>0.553377</td>\n",
       "    </tr>\n",
       "    <tr>\n",
       "      <th>std</th>\n",
       "      <td>9.432617</td>\n",
       "      <td>18.514154</td>\n",
       "      <td>109.384145</td>\n",
       "      <td>0.423046</td>\n",
       "      <td>25.460334</td>\n",
       "      <td>1.066570</td>\n",
       "      <td>0.497414</td>\n",
       "    </tr>\n",
       "    <tr>\n",
       "      <th>min</th>\n",
       "      <td>28.000000</td>\n",
       "      <td>0.000000</td>\n",
       "      <td>0.000000</td>\n",
       "      <td>0.000000</td>\n",
       "      <td>60.000000</td>\n",
       "      <td>-2.600000</td>\n",
       "      <td>0.000000</td>\n",
       "    </tr>\n",
       "    <tr>\n",
       "      <th>25%</th>\n",
       "      <td>47.000000</td>\n",
       "      <td>120.000000</td>\n",
       "      <td>173.250000</td>\n",
       "      <td>0.000000</td>\n",
       "      <td>120.000000</td>\n",
       "      <td>0.000000</td>\n",
       "      <td>0.000000</td>\n",
       "    </tr>\n",
       "    <tr>\n",
       "      <th>50%</th>\n",
       "      <td>54.000000</td>\n",
       "      <td>130.000000</td>\n",
       "      <td>223.000000</td>\n",
       "      <td>0.000000</td>\n",
       "      <td>138.000000</td>\n",
       "      <td>0.600000</td>\n",
       "      <td>1.000000</td>\n",
       "    </tr>\n",
       "    <tr>\n",
       "      <th>75%</th>\n",
       "      <td>60.000000</td>\n",
       "      <td>140.000000</td>\n",
       "      <td>267.000000</td>\n",
       "      <td>0.000000</td>\n",
       "      <td>156.000000</td>\n",
       "      <td>1.500000</td>\n",
       "      <td>1.000000</td>\n",
       "    </tr>\n",
       "    <tr>\n",
       "      <th>max</th>\n",
       "      <td>77.000000</td>\n",
       "      <td>200.000000</td>\n",
       "      <td>603.000000</td>\n",
       "      <td>1.000000</td>\n",
       "      <td>202.000000</td>\n",
       "      <td>6.200000</td>\n",
       "      <td>1.000000</td>\n",
       "    </tr>\n",
       "  </tbody>\n",
       "</table>\n",
       "</div>"
      ],
      "text/plain": [
       "              Age   RestingBP  Cholesterol   FastingBS       MaxHR  \\\n",
       "count  918.000000  918.000000   918.000000  918.000000  918.000000   \n",
       "mean    53.510893  132.396514   198.799564    0.233115  136.809368   \n",
       "std      9.432617   18.514154   109.384145    0.423046   25.460334   \n",
       "min     28.000000    0.000000     0.000000    0.000000   60.000000   \n",
       "25%     47.000000  120.000000   173.250000    0.000000  120.000000   \n",
       "50%     54.000000  130.000000   223.000000    0.000000  138.000000   \n",
       "75%     60.000000  140.000000   267.000000    0.000000  156.000000   \n",
       "max     77.000000  200.000000   603.000000    1.000000  202.000000   \n",
       "\n",
       "          Oldpeak  HeartDisease  \n",
       "count  918.000000    918.000000  \n",
       "mean     0.887364      0.553377  \n",
       "std      1.066570      0.497414  \n",
       "min     -2.600000      0.000000  \n",
       "25%      0.000000      0.000000  \n",
       "50%      0.600000      1.000000  \n",
       "75%      1.500000      1.000000  \n",
       "max      6.200000      1.000000  "
      ]
     },
     "execution_count": 4,
     "metadata": {},
     "output_type": "execute_result"
    }
   ],
   "source": [
    "data.describe()"
   ]
  },
  {
   "cell_type": "code",
   "execution_count": 5,
   "id": "f1b17173",
   "metadata": {},
   "outputs": [
    {
     "data": {
      "text/plain": [
       "(918, 12)"
      ]
     },
     "execution_count": 5,
     "metadata": {},
     "output_type": "execute_result"
    }
   ],
   "source": [
    "data.shape"
   ]
  },
  {
   "cell_type": "code",
   "execution_count": 6,
   "id": "dbc17b26",
   "metadata": {},
   "outputs": [],
   "source": [
    "from sklearn import preprocessing\n",
    "ohe=pd.get_dummies(data)\n",
    "df=ohe"
   ]
  },
  {
   "cell_type": "code",
   "execution_count": 7,
   "id": "80fe5e34",
   "metadata": {},
   "outputs": [],
   "source": [
    "x=df.drop(columns=['HeartDisease'],axis=1)\n",
    "y=df['HeartDisease']"
   ]
  },
  {
   "cell_type": "code",
   "execution_count": 8,
   "id": "684f9458",
   "metadata": {},
   "outputs": [],
   "source": [
    "from sklearn.model_selection import train_test_split\n",
    "x_train,x_test,y_train,y_test=train_test_split(x,y,test_size=0.3)"
   ]
  },
  {
   "cell_type": "code",
   "execution_count": 9,
   "id": "d2356cae",
   "metadata": {},
   "outputs": [
    {
     "data": {
      "text/plain": [
       "0.5978260869565217"
      ]
     },
     "execution_count": 9,
     "metadata": {},
     "output_type": "execute_result"
    }
   ],
   "source": [
    "model=svm.SVC(kernel='rbf',C=30,gamma='auto')\n",
    "model.fit(x_train,y_train)\n",
    "model.score(x_test,y_test)"
   ]
  },
  {
   "cell_type": "code",
   "execution_count": 10,
   "id": "15df8229",
   "metadata": {},
   "outputs": [
    {
     "data": {
      "text/plain": [
       "0.5978260869565217"
      ]
     },
     "execution_count": 10,
     "metadata": {},
     "output_type": "execute_result"
    }
   ],
   "source": [
    "model=svm.SVC(kernel='rbf',C=20,gamma='auto')\n",
    "model.fit(x_train,y_train)\n",
    "model.score(x_test,y_test)"
   ]
  },
  {
   "cell_type": "code",
   "execution_count": 11,
   "id": "0434492b",
   "metadata": {},
   "outputs": [
    {
     "data": {
      "text/plain": [
       "0.8659420289855072"
      ]
     },
     "execution_count": 11,
     "metadata": {},
     "output_type": "execute_result"
    }
   ],
   "source": [
    "model=svm.SVC(kernel='linear',C=20,gamma='auto')\n",
    "model.fit(x_train,y_train)\n",
    "model.score(x_test,y_test)"
   ]
  },
  {
   "cell_type": "code",
   "execution_count": 12,
   "id": "2cbfc8fb",
   "metadata": {},
   "outputs": [
    {
     "data": {
      "text/plain": [
       "array([0.60869565, 0.57608696, 0.58152174, 0.57923497, 0.56284153])"
      ]
     },
     "execution_count": 12,
     "metadata": {},
     "output_type": "execute_result"
    }
   ],
   "source": [
    "from sklearn.model_selection import cross_val_score\n",
    "cross_val_score(svm.SVC(kernel='rbf',C=30,gamma='auto'),x,y,cv=5)"
   ]
  },
  {
   "cell_type": "code",
   "execution_count": 13,
   "id": "16fa1838",
   "metadata": {},
   "outputs": [
    {
     "data": {
      "text/plain": [
       "array([0.86956522, 0.85869565, 0.84782609, 0.84153005, 0.74863388])"
      ]
     },
     "execution_count": 13,
     "metadata": {},
     "output_type": "execute_result"
    }
   ],
   "source": [
    "cross_val_score(svm.SVC(kernel='linear',C=20,gamma='auto'),x,y,cv=5)"
   ]
  },
  {
   "cell_type": "code",
   "execution_count": 14,
   "id": "2831c11f",
   "metadata": {},
   "outputs": [
    {
     "data": {
      "text/plain": [
       "array([0.88043478, 0.83695652, 0.84782609, 0.84153005, 0.74863388])"
      ]
     },
     "execution_count": 14,
     "metadata": {},
     "output_type": "execute_result"
    }
   ],
   "source": [
    "cross_val_score(svm.SVC(kernel='linear',C=30,gamma='auto'),x,y,cv=5)"
   ]
  },
  {
   "cell_type": "code",
   "execution_count": 15,
   "id": "f6c9c13a",
   "metadata": {},
   "outputs": [
    {
     "data": {
      "text/plain": [
       "{'rbf_1': 0.5696780708006652,\n",
       " 'rbf_20': 0.5816761701116655,\n",
       " 'rbf_30': 0.5816761701116655,\n",
       " 'linear_1': 0.8299952482775007,\n",
       " 'linear_20': 0.8332501781895937,\n",
       " 'linear_30': 0.8310762651461154}"
      ]
     },
     "execution_count": 15,
     "metadata": {},
     "output_type": "execute_result"
    }
   ],
   "source": [
    "kernels=['rbf','linear']\n",
    "C=[1,20,30]\n",
    "avg_scores={}\n",
    "for kval in kernels:\n",
    "    for cval in C:\n",
    "        cv_scores=cross_val_score(svm.SVC(kernel=kval,C=cval,gamma='auto'),x,y,cv=5)\n",
    "        avg_scores[kval+'_'+str(cval)]=np.average(cv_scores)\n",
    "avg_scores"
   ]
  },
  {
   "cell_type": "code",
   "execution_count": 16,
   "id": "5eb87424",
   "metadata": {},
   "outputs": [
    {
     "data": {
      "text/plain": [
       "{'mean_fit_time': array([4.94056225e-02, 3.94335885e+00, 4.54986572e-02, 3.24319442e+01,\n",
       "        6.81113720e-02, 6.86113997e+01]),\n",
       " 'std_fit_time': array([6.99866627e-03, 8.68538753e-01, 5.19002115e-03, 7.43577183e+00,\n",
       "        1.51617286e-02, 9.69464428e+00]),\n",
       " 'mean_score_time': array([0.02414484, 0.        , 0.02645864, 0.01057124, 0.0344523 ,\n",
       "        0.        ]),\n",
       " 'std_score_time': array([0.0071328 , 0.        , 0.00629967, 0.00647111, 0.00398023,\n",
       "        0.        ]),\n",
       " 'param_C': masked_array(data=[1, 1, 20, 20, 30, 30],\n",
       "              mask=[False, False, False, False, False, False],\n",
       "        fill_value='?',\n",
       "             dtype=object),\n",
       " 'param_kernel': masked_array(data=['rbf', 'linear', 'rbf', 'linear', 'rbf', 'linear'],\n",
       "              mask=[False, False, False, False, False, False],\n",
       "        fill_value='?',\n",
       "             dtype=object),\n",
       " 'params': [{'C': 1, 'kernel': 'rbf'},\n",
       "  {'C': 1, 'kernel': 'linear'},\n",
       "  {'C': 20, 'kernel': 'rbf'},\n",
       "  {'C': 20, 'kernel': 'linear'},\n",
       "  {'C': 30, 'kernel': 'rbf'},\n",
       "  {'C': 30, 'kernel': 'linear'}],\n",
       " 'split0_test_score': array([0.58152174, 0.85869565, 0.60869565, 0.86956522, 0.60869565,\n",
       "        0.88043478]),\n",
       " 'split1_test_score': array([0.58152174, 0.84782609, 0.57608696, 0.85869565, 0.57608696,\n",
       "        0.83695652]),\n",
       " 'split2_test_score': array([0.58152174, 0.84782609, 0.58152174, 0.84782609, 0.58152174,\n",
       "        0.84782609]),\n",
       " 'split3_test_score': array([0.54644809, 0.85245902, 0.57923497, 0.84153005, 0.57923497,\n",
       "        0.84153005]),\n",
       " 'split4_test_score': array([0.55737705, 0.7431694 , 0.56284153, 0.74863388, 0.56284153,\n",
       "        0.74863388]),\n",
       " 'mean_test_score': array([0.56967807, 0.82999525, 0.58167617, 0.83325018, 0.58167617,\n",
       "        0.83107627]),\n",
       " 'std_test_score': array([0.0149115 , 0.04359573, 0.01498011, 0.04337554, 0.01498011,\n",
       "        0.04394867]),\n",
       " 'rank_test_score': array([6, 3, 4, 1, 4, 2])}"
      ]
     },
     "execution_count": 16,
     "metadata": {},
     "output_type": "execute_result"
    }
   ],
   "source": [
    "from sklearn.model_selection import GridSearchCV\n",
    "clf=GridSearchCV(svm.SVC(gamma='auto'),{\n",
    "    'C':[1,20,30],\n",
    "    'kernel':['rbf','linear']\n",
    "},cv=5,return_train_score=False)\n",
    "clf.fit(x,y)\n",
    "clf.cv_results_"
   ]
  },
  {
   "cell_type": "code",
   "execution_count": 18,
   "id": "289f07e2",
   "metadata": {},
   "outputs": [
    {
     "data": {
      "text/html": [
       "<div>\n",
       "<style scoped>\n",
       "    .dataframe tbody tr th:only-of-type {\n",
       "        vertical-align: middle;\n",
       "    }\n",
       "\n",
       "    .dataframe tbody tr th {\n",
       "        vertical-align: top;\n",
       "    }\n",
       "\n",
       "    .dataframe thead th {\n",
       "        text-align: right;\n",
       "    }\n",
       "</style>\n",
       "<table border=\"1\" class=\"dataframe\">\n",
       "  <thead>\n",
       "    <tr style=\"text-align: right;\">\n",
       "      <th></th>\n",
       "      <th>mean_fit_time</th>\n",
       "      <th>std_fit_time</th>\n",
       "      <th>mean_score_time</th>\n",
       "      <th>std_score_time</th>\n",
       "      <th>param_C</th>\n",
       "      <th>param_kernel</th>\n",
       "      <th>params</th>\n",
       "      <th>split0_test_score</th>\n",
       "      <th>split1_test_score</th>\n",
       "      <th>split2_test_score</th>\n",
       "      <th>split3_test_score</th>\n",
       "      <th>split4_test_score</th>\n",
       "      <th>mean_test_score</th>\n",
       "      <th>std_test_score</th>\n",
       "      <th>rank_test_score</th>\n",
       "    </tr>\n",
       "  </thead>\n",
       "  <tbody>\n",
       "    <tr>\n",
       "      <th>0</th>\n",
       "      <td>0.049406</td>\n",
       "      <td>0.006999</td>\n",
       "      <td>0.024145</td>\n",
       "      <td>0.007133</td>\n",
       "      <td>1</td>\n",
       "      <td>rbf</td>\n",
       "      <td>{'C': 1, 'kernel': 'rbf'}</td>\n",
       "      <td>0.581522</td>\n",
       "      <td>0.581522</td>\n",
       "      <td>0.581522</td>\n",
       "      <td>0.546448</td>\n",
       "      <td>0.557377</td>\n",
       "      <td>0.569678</td>\n",
       "      <td>0.014912</td>\n",
       "      <td>6</td>\n",
       "    </tr>\n",
       "    <tr>\n",
       "      <th>1</th>\n",
       "      <td>3.943359</td>\n",
       "      <td>0.868539</td>\n",
       "      <td>0.000000</td>\n",
       "      <td>0.000000</td>\n",
       "      <td>1</td>\n",
       "      <td>linear</td>\n",
       "      <td>{'C': 1, 'kernel': 'linear'}</td>\n",
       "      <td>0.858696</td>\n",
       "      <td>0.847826</td>\n",
       "      <td>0.847826</td>\n",
       "      <td>0.852459</td>\n",
       "      <td>0.743169</td>\n",
       "      <td>0.829995</td>\n",
       "      <td>0.043596</td>\n",
       "      <td>3</td>\n",
       "    </tr>\n",
       "    <tr>\n",
       "      <th>2</th>\n",
       "      <td>0.045499</td>\n",
       "      <td>0.005190</td>\n",
       "      <td>0.026459</td>\n",
       "      <td>0.006300</td>\n",
       "      <td>20</td>\n",
       "      <td>rbf</td>\n",
       "      <td>{'C': 20, 'kernel': 'rbf'}</td>\n",
       "      <td>0.608696</td>\n",
       "      <td>0.576087</td>\n",
       "      <td>0.581522</td>\n",
       "      <td>0.579235</td>\n",
       "      <td>0.562842</td>\n",
       "      <td>0.581676</td>\n",
       "      <td>0.014980</td>\n",
       "      <td>4</td>\n",
       "    </tr>\n",
       "    <tr>\n",
       "      <th>3</th>\n",
       "      <td>32.431944</td>\n",
       "      <td>7.435772</td>\n",
       "      <td>0.010571</td>\n",
       "      <td>0.006471</td>\n",
       "      <td>20</td>\n",
       "      <td>linear</td>\n",
       "      <td>{'C': 20, 'kernel': 'linear'}</td>\n",
       "      <td>0.869565</td>\n",
       "      <td>0.858696</td>\n",
       "      <td>0.847826</td>\n",
       "      <td>0.841530</td>\n",
       "      <td>0.748634</td>\n",
       "      <td>0.833250</td>\n",
       "      <td>0.043376</td>\n",
       "      <td>1</td>\n",
       "    </tr>\n",
       "    <tr>\n",
       "      <th>4</th>\n",
       "      <td>0.068111</td>\n",
       "      <td>0.015162</td>\n",
       "      <td>0.034452</td>\n",
       "      <td>0.003980</td>\n",
       "      <td>30</td>\n",
       "      <td>rbf</td>\n",
       "      <td>{'C': 30, 'kernel': 'rbf'}</td>\n",
       "      <td>0.608696</td>\n",
       "      <td>0.576087</td>\n",
       "      <td>0.581522</td>\n",
       "      <td>0.579235</td>\n",
       "      <td>0.562842</td>\n",
       "      <td>0.581676</td>\n",
       "      <td>0.014980</td>\n",
       "      <td>4</td>\n",
       "    </tr>\n",
       "    <tr>\n",
       "      <th>5</th>\n",
       "      <td>68.611400</td>\n",
       "      <td>9.694644</td>\n",
       "      <td>0.000000</td>\n",
       "      <td>0.000000</td>\n",
       "      <td>30</td>\n",
       "      <td>linear</td>\n",
       "      <td>{'C': 30, 'kernel': 'linear'}</td>\n",
       "      <td>0.880435</td>\n",
       "      <td>0.836957</td>\n",
       "      <td>0.847826</td>\n",
       "      <td>0.841530</td>\n",
       "      <td>0.748634</td>\n",
       "      <td>0.831076</td>\n",
       "      <td>0.043949</td>\n",
       "      <td>2</td>\n",
       "    </tr>\n",
       "  </tbody>\n",
       "</table>\n",
       "</div>"
      ],
      "text/plain": [
       "   mean_fit_time  std_fit_time  mean_score_time  std_score_time param_C  \\\n",
       "0       0.049406      0.006999         0.024145        0.007133       1   \n",
       "1       3.943359      0.868539         0.000000        0.000000       1   \n",
       "2       0.045499      0.005190         0.026459        0.006300      20   \n",
       "3      32.431944      7.435772         0.010571        0.006471      20   \n",
       "4       0.068111      0.015162         0.034452        0.003980      30   \n",
       "5      68.611400      9.694644         0.000000        0.000000      30   \n",
       "\n",
       "  param_kernel                         params  split0_test_score  \\\n",
       "0          rbf      {'C': 1, 'kernel': 'rbf'}           0.581522   \n",
       "1       linear   {'C': 1, 'kernel': 'linear'}           0.858696   \n",
       "2          rbf     {'C': 20, 'kernel': 'rbf'}           0.608696   \n",
       "3       linear  {'C': 20, 'kernel': 'linear'}           0.869565   \n",
       "4          rbf     {'C': 30, 'kernel': 'rbf'}           0.608696   \n",
       "5       linear  {'C': 30, 'kernel': 'linear'}           0.880435   \n",
       "\n",
       "   split1_test_score  split2_test_score  split3_test_score  split4_test_score  \\\n",
       "0           0.581522           0.581522           0.546448           0.557377   \n",
       "1           0.847826           0.847826           0.852459           0.743169   \n",
       "2           0.576087           0.581522           0.579235           0.562842   \n",
       "3           0.858696           0.847826           0.841530           0.748634   \n",
       "4           0.576087           0.581522           0.579235           0.562842   \n",
       "5           0.836957           0.847826           0.841530           0.748634   \n",
       "\n",
       "   mean_test_score  std_test_score  rank_test_score  \n",
       "0         0.569678        0.014912                6  \n",
       "1         0.829995        0.043596                3  \n",
       "2         0.581676        0.014980                4  \n",
       "3         0.833250        0.043376                1  \n",
       "4         0.581676        0.014980                4  \n",
       "5         0.831076        0.043949                2  "
      ]
     },
     "execution_count": 18,
     "metadata": {},
     "output_type": "execute_result"
    }
   ],
   "source": [
    "dataset=pd.DataFrame(clf.cv_results_)\n",
    "dataset"
   ]
  },
  {
   "cell_type": "code",
   "execution_count": null,
   "id": "e888a5f9",
   "metadata": {},
   "outputs": [],
   "source": []
  },
  {
   "cell_type": "code",
   "execution_count": null,
   "id": "a048ff9b",
   "metadata": {},
   "outputs": [],
   "source": []
  }
 ],
 "metadata": {
  "kernelspec": {
   "display_name": "Python 3 (ipykernel)",
   "language": "python",
   "name": "python3"
  },
  "language_info": {
   "codemirror_mode": {
    "name": "ipython",
    "version": 3
   },
   "file_extension": ".py",
   "mimetype": "text/x-python",
   "name": "python",
   "nbconvert_exporter": "python",
   "pygments_lexer": "ipython3",
   "version": "3.9.12"
  }
 },
 "nbformat": 4,
 "nbformat_minor": 5
}
